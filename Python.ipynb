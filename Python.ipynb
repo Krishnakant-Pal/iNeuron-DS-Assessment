{
  "nbformat": 4,
  "nbformat_minor": 0,
  "metadata": {
    "colab": {
      "provenance": [],
      "authorship_tag": "ABX9TyPt8Or5AkFclSc/3HWeNsjW",
      "include_colab_link": true
    },
    "kernelspec": {
      "name": "python3",
      "display_name": "Python 3"
    },
    "language_info": {
      "name": "python"
    }
  },
  "cells": [
    {
      "cell_type": "markdown",
      "metadata": {
        "id": "view-in-github",
        "colab_type": "text"
      },
      "source": [
        "<a href=\"https://colab.research.google.com/github/Krishnakant-Pal/iNeuron-DS-Assessment/blob/main/Python.ipynb\" target=\"_parent\"><img src=\"https://colab.research.google.com/assets/colab-badge.svg\" alt=\"Open In Colab\"/></a>"
      ]
    },
    {
      "cell_type": "markdown",
      "source": [
        "*Question 1*\n",
        "You have an input dictionary given,\n",
        "\n",
        "input_dict = {\"abc\":{\"def\":{\"ghi\":{\"jkl\":{\"mno\":{\"pqr\":{\"stu\":{\"vwx\":{\"yz\":\"you are finally here !!!\"}}}}}}}}}\n",
        "\n",
        "Task:  You have to write a Python function that will take this input and print it like that,\n",
        "\n",
        "output = {\"abc\":[\"def\",\"ghi\",\"jkl\",\"mno\",\"pqr\",\"stu\",\"vwx\",\"yz\"],\n",
        " \"def\":[\"ghi\",\"jkl\",\"mno\",\"pqr\",\"stu\",\"vwx\",\"yz\"],\n",
        " \"ghi\":[\"jkl\",\"mno\",\"pqr\",\"stu\",\"vwx\",\"yz\"],\n",
        " \"jkl\":[\"mno\",\"pqr\",\"stu\",\"vwx\",\"yz\"],\n",
        " \"mno\":[\"pqr\",\"stu\",\"vwx\",\"yz\"],\n",
        " \"pqr\":[\"stu\",\"vwx\",\"yz\"],\n",
        " \"stu\":[\"vwx\",\"yz\"],\n",
        " \"vwx\":[\"yz\"],\n",
        " \"yz\":[\"you are finally here !!!\"]}"
      ],
      "metadata": {
        "id": "BwQiArPmfGoV"
      }
    },
    {
      "cell_type": "code",
      "source": [
        "input_dict = {\"abc\":{\"def\":{\"ghi\":{\"jkl\":{\"mno\":{\"pqr\":{\"stu\":{\"vwx\":{\"yz\":\"you are finally here !!!\"}}}}}}}}}"
      ],
      "metadata": {
        "id": "3e3Zo41LfoQG"
      },
      "execution_count": 57,
      "outputs": []
    },
    {
      "cell_type": "code",
      "source": [
        "def dict_printer(input_dict):\n",
        "    value_exits = True\n",
        "    while value_exits:\n",
        "        # check for last value\n",
        "        if type(input_dict) == str:\n",
        "            value_exits = False\n",
        "        # if dict has value then print\n",
        "        elif input_dict.values() :\n",
        "            value_exits = True\n",
        "            print(input_dict[list(input_dict.keys())[0]])\n",
        "            input_dict = input_dict[list(input_dict.keys())[0]]\n",
        "dict_printer(input_dict)"
      ],
      "metadata": {
        "colab": {
          "base_uri": "https://localhost:8080/"
        },
        "id": "XA1fESJjfp36",
        "outputId": "87f58322-7462-464e-dce5-5c89139078d2"
      },
      "execution_count": 62,
      "outputs": [
        {
          "output_type": "stream",
          "name": "stdout",
          "text": [
            "{'def': {'ghi': {'jkl': {'mno': {'pqr': {'stu': {'vwx': {'yz': 'you are finally here !!!'}}}}}}}}\n",
            "{'ghi': {'jkl': {'mno': {'pqr': {'stu': {'vwx': {'yz': 'you are finally here !!!'}}}}}}}\n",
            "{'jkl': {'mno': {'pqr': {'stu': {'vwx': {'yz': 'you are finally here !!!'}}}}}}\n",
            "{'mno': {'pqr': {'stu': {'vwx': {'yz': 'you are finally here !!!'}}}}}\n",
            "{'pqr': {'stu': {'vwx': {'yz': 'you are finally here !!!'}}}}\n",
            "{'stu': {'vwx': {'yz': 'you are finally here !!!'}}}\n",
            "{'vwx': {'yz': 'you are finally here !!!'}}\n",
            "{'yz': 'you are finally here !!!'}\n",
            "you are finally here !!!\n"
          ]
        }
      ]
    },
    {
      "cell_type": "markdown",
      "source": [
        "Question: 2\n",
        "\n",
        "\n",
        "Given an array of length ‘N’, where each element denotes the position of a stall. Now you have ‘N’ stalls and an integer ‘K’ which denotes the number of horses that are mad. To prevent the horses from hurting each other, you need to assign the horses to the stalls, such that the minimum distance between any two of them is as large as possible. Return the largest minimum distance.\n",
        "\n",
        "array: 1,2,4,8,9  &  k=3\n",
        "\n",
        "O/P: 3\n",
        "\n",
        "Explanation: 1st horse at stall 1, 2nd horse at stall 4 and 3rd horse at stall 8"
      ],
      "metadata": {
        "id": "5p07l81nhGV3"
      }
    },
    {
      "cell_type": "code",
      "source": [
        "def can_place_horses(stalls, k, min_distance):\n",
        "    horses_placed = 1\n",
        "    previous_stall = stalls[0]\n",
        "\n",
        "    for stall in stalls[1:]:\n",
        "        if stall - previous_stall >= min_distance:\n",
        "            horses_placed += 1\n",
        "            previous_stall = stall\n",
        "\n",
        "    return horses_placed >= k\n",
        "\n",
        "def max_min_distance(stalls, k):\n",
        "    stalls.sort()\n",
        "    # if there is no or less stalls that horse return -1\n",
        "    if stalls == 0 or len(stalls)<k:\n",
        "        return -1\n",
        "\n",
        "    # further end of the stalls\n",
        "    left, right = 0, stalls[-1]\n",
        "    # starts with if mid is not availble checking left or right of the middle stalls\n",
        "    while left <= right:\n",
        "        mid = (left + right) // 2\n",
        "        if can_place_horses(stalls, k, mid):\n",
        "            left = mid + 1\n",
        "        else:\n",
        "            right = mid - 1\n",
        "    return left - 1\n",
        "\n"
      ],
      "metadata": {
        "id": "USh-wcnaiAcL"
      },
      "execution_count": 24,
      "outputs": []
    },
    {
      "cell_type": "code",
      "source": [
        "# test\n",
        "\n",
        "stalls1 = [1, 2, 4, 8, 9]\n",
        "k1 = 3\n",
        "assert max_min_distance(stalls1, k1) == 3\n",
        "\n",
        "stalls2 = [1,2,3,4,5,6,12,18]\n",
        "k2 = 2\n",
        "assert max_min_distance(stalls2, k2) == 17\n",
        "\n",
        "stalls3 =[1,2]\n",
        "k3 = 5\n",
        "assert max_min_distance(stalls3, k3) == -1\n",
        "print(\"All test cases passed!\")"
      ],
      "metadata": {
        "colab": {
          "base_uri": "https://localhost:8080/"
        },
        "id": "nCHxmI-tj5Wh",
        "outputId": "0eb12b6e-a56b-4db4-d29d-b0e98a253d43"
      },
      "execution_count": 27,
      "outputs": [
        {
          "output_type": "stream",
          "name": "stdout",
          "text": [
            "All test cases passed!\n"
          ]
        }
      ]
    },
    {
      "cell_type": "markdown",
      "source": [
        "Mr. Karthiken works in a door mat manufacturing company. One day, he designed a new door mat with the following specifications:\n",
        "\n",
        "             a) Mat size must be N X M. (N is an odd natural number, and M is 3 times N.)\n",
        "              b) The design should have ‘WELCOME’ written in the center.\n",
        "              c) The design pattern should only use |, . and – characters.\n"
      ],
      "metadata": {
        "id": "d4qgd2hSlYdO"
      }
    },
    {
      "cell_type": "code",
      "source": [
        "def create_door_mat(N, M):\n",
        "    # Upper half of the door mat\n",
        "    for i in range(1, N, 2):\n",
        "        print(('.|.' * i).center(M, '-'))\n",
        "\n",
        "    # Welcome message\n",
        "    print('WELCOME'.center(M, '-'))\n",
        "\n",
        "    # Lower half of the door mat\n",
        "    for i in range(N-2, -1, -2):\n",
        "        print(('.|.' * i).center(M, '-'))\n",
        "\n",
        "N = 7\n",
        "M = 21\n",
        "create_door_mat(N, M)\n"
      ],
      "metadata": {
        "colab": {
          "base_uri": "https://localhost:8080/"
        },
        "id": "plnwM7OLlca4",
        "outputId": "e1484138-84ff-4d9f-b682-1215c67c771b"
      },
      "execution_count": 30,
      "outputs": [
        {
          "output_type": "stream",
          "name": "stdout",
          "text": [
            "---------.|.---------\n",
            "------.|..|..|.------\n",
            "---.|..|..|..|..|.---\n",
            "-------WELCOME-------\n",
            "---.|..|..|..|..|.---\n",
            "------.|..|..|.------\n",
            "---------.|.---------\n"
          ]
        }
      ]
    },
    {
      "cell_type": "code",
      "source": [
        "create_door_mat(11,33)"
      ],
      "metadata": {
        "colab": {
          "base_uri": "https://localhost:8080/"
        },
        "id": "muWbsEqUoO00",
        "outputId": "1ee4ff8e-1364-498c-b0c9-503af7b1faab"
      },
      "execution_count": 34,
      "outputs": [
        {
          "output_type": "stream",
          "name": "stdout",
          "text": [
            "---------------.|.---------------\n",
            "------------.|..|..|.------------\n",
            "---------.|..|..|..|..|.---------\n",
            "------.|..|..|..|..|..|..|.------\n",
            "---.|..|..|..|..|..|..|..|..|.---\n",
            "-------------WELCOME-------------\n",
            "---.|..|..|..|..|..|..|..|..|.---\n",
            "------.|..|..|..|..|..|..|.------\n",
            "---------.|..|..|..|..|.---------\n",
            "------------.|..|..|.------------\n",
            "---------------.|.---------------\n"
          ]
        }
      ]
    },
    {
      "cell_type": "markdown",
      "source": [
        "**Question: 4**\n",
        "Given an array nums of n integers, return an array of all the unique quadruplets [nums[a], nums[b], nums[c], nums[d]] such that:\n",
        "\n",
        "   a) 0 <= a, b, c, d < n\n",
        "   b) a, b, c, and d are distinct.\n",
        "   c) nums[a] + nums[b] + nums[c] + nums[d] == target"
      ],
      "metadata": {
        "id": "0WIqviLwnNjc"
      }
    },
    {
      "cell_type": "code",
      "source": [
        "def fourSum(nums, target):\n",
        "    if len(nums) < 4:\n",
        "        return []\n",
        "\n",
        "    nums.sort()\n",
        "    pairs = {}\n",
        "    result = set()\n",
        "\n",
        "    # Generate pairs of two elements' sums\n",
        "    for i in range(len(nums)):\n",
        "        for j in range(i + 1, len(nums)):\n",
        "            pair_sum = nums[i] + nums[j]\n",
        "            if pair_sum in pairs:\n",
        "                pairs[pair_sum].append((i, j))\n",
        "            else:\n",
        "                pairs[pair_sum] = [(i, j)]\n",
        "\n",
        "    # Iterate through pairs to find quadruplets\n",
        "    for i in range(len(nums)):\n",
        "        for j in range(i + 1, len(nums) - 2):\n",
        "            remaining_sum = target - (nums[i] + nums[j])\n",
        "            if remaining_sum in pairs:\n",
        "                for pair in pairs[remaining_sum]:\n",
        "                    if pair[0] > j:\n",
        "                        result.add((nums[i], nums[j], nums[pair[0]], nums[pair[1]]))\n",
        "\n",
        "    return list(result)\n"
      ],
      "metadata": {
        "id": "GVjcf-yNnPkE"
      },
      "execution_count": 32,
      "outputs": []
    },
    {
      "cell_type": "code",
      "source": [
        "nums = [1, 0, -1, 0, -2, 2]\n",
        "target = 0\n",
        "print(fourSum(nums, target))"
      ],
      "metadata": {
        "colab": {
          "base_uri": "https://localhost:8080/"
        },
        "id": "Z5e8iIx3oFGy",
        "outputId": "b85ed871-5525-4662-8929-befff55423de"
      },
      "execution_count": 33,
      "outputs": [
        {
          "output_type": "stream",
          "name": "stdout",
          "text": [
            "[(-2, -1, 1, 2), (-1, 0, 0, 1), (-2, 0, 0, 2)]\n"
          ]
        }
      ]
    },
    {
      "cell_type": "code",
      "source": [
        "fourSum(nums=[1,2,1,2,1,2,3,2], target=6)"
      ],
      "metadata": {
        "colab": {
          "base_uri": "https://localhost:8080/"
        },
        "id": "7HlYIFLjoNL4",
        "outputId": "fdb56617-dc27-488b-fddd-e4ba97c93740"
      },
      "execution_count": 35,
      "outputs": [
        {
          "output_type": "execute_result",
          "data": {
            "text/plain": [
              "[(1, 1, 1, 3), (1, 1, 2, 2)]"
            ]
          },
          "metadata": {},
          "execution_count": 35
        }
      ]
    }
  ]
}